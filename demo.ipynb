{
 "cells": [
  {
   "cell_type": "markdown",
   "metadata": {},
   "source": [
    "This is a demo for the `labext` library. Note that in order to use it with Jupyter Lab, you need to have `requirejs` enable in Jupyter by installing either:\n",
    "\n",
    "1. https://github.com/DraTeots/jupyterlab_requirejs (jupyterlab version <= 1.*)\n",
    "2. https://github.com/binh-vu/jupyterlab_requirejs  (jupyterlab version >= 2.*)"
   ]
  },
  {
   "cell_type": "code",
   "execution_count": 1,
   "metadata": {},
   "outputs": [],
   "source": [
    "import pandas as pd, numpy as np\n",
    "\n",
    "from IPython.display import HTML, Javascript\n",
    "from labext.prelude import M\n",
    "\n",
    "%load_ext autoreload\n",
    "%autoreload 2"
   ]
  },
  {
   "cell_type": "markdown",
   "metadata": {},
   "source": [
    "**Better display for pandas DataFrame**"
   ]
  },
  {
   "cell_type": "code",
   "execution_count": 2,
   "metadata": {},
   "outputs": [
    {
     "data": {
      "application/javascript": [
       "require.config({ paths: {\"jquery\": \"/custom/labext/jquery/js/jquery-3.3.1.min\"} });\n"
      ],
      "text/plain": [
       "<IPython.core.display.Javascript object>"
      ]
     },
     "metadata": {},
     "output_type": "display_data"
    },
    {
     "data": {
      "application/javascript": [
       "require.config({ paths: {\"data_table\": \"/custom/labext/data_table/js/jquery.dataTables.min\"} });\n",
       "require([\"data_table\", \"jquery\"], function (data_table, jquery) {\n",
       "    if (document.querySelector(\"head link#data_table-css-fds82j1\") === null) {\n",
       "        var el = document.createElement(\"link\");\n",
       "        el.rel = \"stylesheet\";\n",
       "        el.id = \"data_table\";\n",
       "        el.type = \"text/css\";\n",
       "        el.href = \"/custom/labext/data_table/css/jquery.dataTables.min.css\";\n",
       "        document.head.appendChild(el);\n",
       "    }\n",
       "});\n"
      ],
      "text/plain": [
       "<IPython.core.display.Javascript object>"
      ]
     },
     "metadata": {},
     "output_type": "display_data"
    }
   ],
   "source": [
    "M.DataTable.register()"
   ]
  },
  {
   "cell_type": "code",
   "execution_count": 3,
   "metadata": {},
   "outputs": [
    {
     "data": {
      "application/javascript": [
       "\n",
       "require([\"data_table\", \"jquery\"], function(dataTables, jquery) {\n",
       "    jquery(element).html(`<table border=\"0\" class=\"dataframe table table-striped table-bordered\">\n",
       "  <thead>\n",
       "    <tr style=\"text-align: left;\">\n",
       "      <th></th>\n",
       "      <th>0</th>\n",
       "      <th>1</th>\n",
       "      <th>2</th>\n",
       "    </tr>\n",
       "  </thead>\n",
       "  <tbody>\n",
       "    <tr>\n",
       "      <th>0</th>\n",
       "      <td>name</td>\n",
       "      <td>phone</td>\n",
       "      <td>age</td>\n",
       "    </tr>\n",
       "    <tr>\n",
       "      <th>1</th>\n",
       "      <td>john</td>\n",
       "      <td>123-231-2321</td>\n",
       "      <td>30</td>\n",
       "    </tr>\n",
       "    <tr>\n",
       "      <th>2</th>\n",
       "      <td>peter</td>\n",
       "      <td>231-231-2321</td>\n",
       "      <td>35</td>\n",
       "    </tr>\n",
       "  </tbody>\n",
       "</table>`);\n",
       "    jquery(document).ready( () => {\n",
       "        // Turn existing table into datatable\n",
       "        jquery(element).find(\"table.dataframe\").DataTable();\n",
       "    })\n",
       "});"
      ],
      "text/html": [
       "<div>\n",
       "<style scoped>\n",
       "    .dataframe tbody tr th:only-of-type {\n",
       "        vertical-align: middle;\n",
       "    }\n",
       "\n",
       "    .dataframe tbody tr th {\n",
       "        vertical-align: top;\n",
       "    }\n",
       "\n",
       "    .dataframe thead th {\n",
       "        text-align: right;\n",
       "    }\n",
       "</style>\n",
       "<table border=\"1\" class=\"dataframe\">\n",
       "  <thead>\n",
       "    <tr style=\"text-align: right;\">\n",
       "      <th></th>\n",
       "      <th>0</th>\n",
       "      <th>1</th>\n",
       "      <th>2</th>\n",
       "    </tr>\n",
       "  </thead>\n",
       "  <tbody>\n",
       "    <tr>\n",
       "      <th>0</th>\n",
       "      <td>name</td>\n",
       "      <td>phone</td>\n",
       "      <td>age</td>\n",
       "    </tr>\n",
       "    <tr>\n",
       "      <th>1</th>\n",
       "      <td>john</td>\n",
       "      <td>123-231-2321</td>\n",
       "      <td>30</td>\n",
       "    </tr>\n",
       "    <tr>\n",
       "      <th>2</th>\n",
       "      <td>peter</td>\n",
       "      <td>231-231-2321</td>\n",
       "      <td>35</td>\n",
       "    </tr>\n",
       "  </tbody>\n",
       "</table>\n",
       "</div>"
      ],
      "text/plain": [
       "       0             1    2\n",
       "0   name         phone  age\n",
       "1   john  123-231-2321   30\n",
       "2  peter  231-231-2321   35"
      ]
     },
     "execution_count": 3,
     "metadata": {},
     "output_type": "execute_result"
    }
   ],
   "source": [
    "df = pd.DataFrame([\n",
    "    ['name', 'phone', 'age'],\n",
    "    ['john', '123-231-2321', 30],\n",
    "    ['peter', '231-231-2321', 35],\n",
    "])\n",
    "df"
   ]
  },
  {
   "cell_type": "markdown",
   "metadata": {},
   "source": [
    "**Tippy:** shows pop-over of HTML elements"
   ]
  },
  {
   "cell_type": "code",
   "execution_count": 4,
   "metadata": {},
   "outputs": [
    {
     "data": {
      "application/javascript": [
       "require.config({ paths: {\"@popperjs/core\": \"/custom/labext/tippy/js/popper.min\", \"tippy\": \"/custom/labext/tippy/js/tippy-bundle.umd.min\"} });\n",
       "require([\"tippy\"], function (tippy) {\n",
       "    if (document.querySelector(\"head link#tippy-css-fds82j1\") === null) {\n",
       "        var el = document.createElement(\"link\");\n",
       "        el.rel = \"stylesheet\";\n",
       "        el.id = \"tippy\";\n",
       "        el.type = \"text/css\";\n",
       "        el.href = \"/custom/labext/tippy/css/tippy.css\";\n",
       "        document.head.appendChild(el);\n",
       "        var el = document.createElement(\"link\");\n",
       "        el.rel = \"stylesheet\";\n",
       "        el.id = \"tippy\";\n",
       "        el.type = \"text/css\";\n",
       "        el.href = \"/custom/labext/tippy/css/light.css\";\n",
       "        document.head.appendChild(el);\n",
       "    }\n",
       "});\n"
      ],
      "text/plain": [
       "<IPython.core.display.Javascript object>"
      ]
     },
     "metadata": {},
     "output_type": "display_data"
    }
   ],
   "source": [
    "M.Tippy.register()"
   ]
  },
  {
   "cell_type": "code",
   "execution_count": 5,
   "metadata": {},
   "outputs": [
    {
     "data": {
      "text/html": [
       "<button data-tippy-content=\"<b>Hello</b>, what are you doing?\" data-tippy-allowHTML=\"true\">Button</button>"
      ],
      "text/plain": [
       "<IPython.core.display.HTML object>"
      ]
     },
     "metadata": {},
     "output_type": "display_data"
    },
    {
     "data": {
      "application/javascript": [
       "\n",
       "require([\"@popperjs/core\", \"tippy\"], function (popper, tippy) {\n",
       "    tippy(\"[data-tippy-content]\", {});\n",
       "});"
      ],
      "text/plain": [
       "<IPython.core.display.Javascript object>"
      ]
     },
     "metadata": {},
     "output_type": "display_data"
    }
   ],
   "source": [
    "display(HTML('<button data-tippy-content=\"<b>Hello</b>, what are you doing?\" data-tippy-allowHTML=\"true\">Button</button>'))\n",
    "M.Tippy.render()"
   ]
  },
  {
   "cell_type": "markdown",
   "metadata": {},
   "source": [
    "Similar to the **DataTable** module, we can also configure the module for our need. For example, we may want the pop-over to not disappear so that we can interact with the content such as clicking the link.\n",
    "\n",
    "All configurations are available on **Tipply**'s website."
   ]
  },
  {
   "cell_type": "code",
   "execution_count": 6,
   "metadata": {},
   "outputs": [],
   "source": [
    "M.Tippy.set_args(interactive=True, placement=\"right\")"
   ]
  },
  {
   "cell_type": "code",
   "execution_count": 7,
   "metadata": {},
   "outputs": [
    {
     "data": {
      "text/html": [
       "<div style=\"height: 25px\"><button data-tippy-content=\"<b>Hello</b>, please click to visit <a href='https://google.com' target='_blank'>google.com</a>\" data-tippy-allowHTML=\"true\">Button</button></div>"
      ],
      "text/plain": [
       "<IPython.core.display.HTML object>"
      ]
     },
     "metadata": {},
     "output_type": "display_data"
    },
    {
     "data": {
      "application/javascript": [
       "\n",
       "require([\"@popperjs/core\", \"tippy\"], function (popper, tippy) {\n",
       "    tippy(\"[data-tippy-content]\", {\"interactive\": true, \"placement\": \"right\"});\n",
       "});"
      ],
      "text/plain": [
       "<IPython.core.display.Javascript object>"
      ]
     },
     "metadata": {},
     "output_type": "display_data"
    }
   ],
   "source": [
    "# we need the set the height of the container, as interactive Tippy's content is behind it, not like non-interactive content\n",
    "popover = \"<b>Hello</b>, please click to visit <a href='https://google.com' target='_blank'>google.com</a>\"\n",
    "display(HTML(f'<div style=\"height: 25px\"><button data-tippy-content=\"{popover}\" data-tippy-allowHTML=\"true\">Button</button></div>'))\n",
    "M.Tippy.render()"
   ]
  },
  {
   "cell_type": "markdown",
   "metadata": {},
   "source": [
    "**Interactive functions** set of functions that allows users to interact with their data"
   ]
  },
  {
   "cell_type": "markdown",
   "metadata": {},
   "source": [
    "1. For labeling your data"
   ]
  },
  {
   "cell_type": "code",
   "execution_count": 2,
   "metadata": {},
   "outputs": [],
   "source": [
    "import ipywidgets.widgets as widgets\n",
    "from IPython.core.display import display"
   ]
  },
  {
   "cell_type": "code",
   "execution_count": 45,
   "metadata": {},
   "outputs": [],
   "source": [
    "from labext.prelude import F\n",
    "\n",
    "class E(F.Example):\n",
    "    def __init__(self, x, y):\n",
    "        self.data = (x, y)\n",
    "    \n",
    "    def __str__(self):\n",
    "        return self.id\n",
    "    \n",
    "    @property\n",
    "    def id(self):\n",
    "        return \",\".join(self.data)\n",
    "\n",
    "X = [E('country', 'Country'),\n",
    "  E('country', 'Nationality'),\n",
    "  E('country', 'Nation'),\n",
    "  E('country', 'Region'),\n",
    "  E('country', 'Location'),\n",
    " E('golf tournament', 'Tournament'),\n",
    "  E('golf tournament', 'Year(s) won'),\n",
    "  E('golf tournament', 'Championship'),\n",
    "  E('golf tournament', 'Year'),\n",
    "  E('golf tournament', 'Year won'),\n",
    "  E('politician', 'Name'),\n",
    "  E('politician', 'Candidate'),\n",
    "  E('politician', 'Member'),\n",
    "  E('politician', 'Incumbent'),\n",
    "  E('politician', 'Winner')]"
   ]
  },
  {
   "cell_type": "code",
   "execution_count": 98,
   "metadata": {},
   "outputs": [
    {
     "data": {
      "application/vnd.jupyter.widget-view+json": {
       "model_id": "b84e706ecd0c438b996ae7f6323857ec",
       "version_major": 2,
       "version_minor": 0
      },
      "text/plain": [
       "HBox(children=(Button(description='Previous (b)', disabled=True, icon='arrow-circle-left', layout=Layout(margi…"
      ]
     },
     "metadata": {},
     "output_type": "display_data"
    },
    {
     "data": {
      "application/vnd.jupyter.widget-view+json": {
       "model_id": "2886f4f460f2464ba1dae5bac2b079bb",
       "version_major": 2,
       "version_minor": 0
      },
      "text/plain": [
       "Output()"
      ]
     },
     "metadata": {},
     "output_type": "display_data"
    }
   ],
   "source": [
    "# from labext.prelude import F\n",
    "\n",
    "labeler = F.BatchMultichoiceClassificationLabeler(\"/tmp/output.csv\", X, class_ids=['pos', 'neg'], batch_size=2)\n",
    "labeler.render()"
   ]
  },
  {
   "cell_type": "code",
   "execution_count": 85,
   "metadata": {},
   "outputs": [
    {
     "name": "stdout",
     "output_type": "stream",
     "text": [
      "country,Country\tneg\n",
      "country,Nationality\tneg\n",
      "country,Nation\tneg\n",
      "country,Region\tneg\n"
     ]
    }
   ],
   "source": [
    "!cat /tmp/output.csv"
   ]
  },
  {
   "cell_type": "code",
   "execution_count": 38,
   "metadata": {},
   "outputs": [
    {
     "data": {
      "text/plain": [
       "{'country,Country': '', 'country,Nationality': 'neg'}"
      ]
     },
     "execution_count": 38,
     "metadata": {},
     "output_type": "execute_result"
    }
   ],
   "source": [
    "data_loader.labeled_examples"
   ]
  },
  {
   "cell_type": "code",
   "execution_count": 30,
   "metadata": {},
   "outputs": [],
   "source": [
    "!rm /tmp/output.csv"
   ]
  },
  {
   "cell_type": "code",
   "execution_count": null,
   "metadata": {},
   "outputs": [],
   "source": [
    "i = 0\n",
    "def render():\n",
    "    for e in X[i]:\n",
    "        posbtn = widgets.Button(description='(1) positive')\n",
    "        negbtn = widgets.Button(description='(0) negative')\n",
    "        econtent = widgets.HTML(value=f'<span>{e}</span>')\n",
    "        display(widgets.HBox([posbtn, negbtn, econtent]))\n",
    "###################################\n",
    "\n",
    "next_btn = widgets.Button(\n",
    "    description='Next (n)',\n",
    "    disabled=False,\n",
    "    button_style='',\n",
    "    icon='arrow-circle-right'  # (FontAwesome names without the `fa-` prefix)\n",
    ")\n",
    "prev_btn = widgets.Button(\n",
    "    description='Previous (b)',\n",
    "    disabled=False,\n",
    "    button_style='',\n",
    "    icon='arrow-circle-left'  # (FontAwesome names without the `fa-` prefix)\n",
    ")\n",
    "prev_btn.layout.margin = \"3px 0 0 0\"\n",
    "next_btn.layout.margin = \"3px 0 0 8px\"\n",
    "\n",
    "monitorbox = HTML(value='Keyboard Interaction: <span style=\"color: #d24829\"><b>inactive</b></span> (mouse hover to activate)')\n",
    "monitorbox.layout.border = '1px solid #d24829'\n",
    "monitorbox.layout.padding = '2px 32px'\n",
    "monitorbox.layout.margin = \"0 0 0 8px\"\n",
    "\n",
    "event_listener = Event(source=monitorbox, watched_events=['keydown', 'mouseenter', 'mouseleave'])\n",
    "\n",
    "def handle_event(event):\n",
    "    global i\n",
    "    \n",
    "    if event['type'] == 'mouseenter' or event['type'] == 'mouseleave':\n",
    "        is_monitorbox_active = event['type'] == 'mouseenter'\n",
    "        if is_monitorbox_active:\n",
    "            monitorbox.value = 'Keyboard Interaction: <span style=\"color: #79b549\"><b>active</b></span> (mouse leave to deactivate)'\n",
    "            monitorbox.layout.border = '1px solid #79b549'                \n",
    "        else:\n",
    "            monitorbox.value = 'Keyboard Interaction: <span style=\"color: #d24829\"><b>inactive</b></span> (mouse enter to activate)'\n",
    "            monitorbox.layout.border = '1px solid #d24829'\n",
    "    else:\n",
    "        # keydown event\n",
    "        key = event['key']\n",
    "        if key == 'n':\n",
    "            # call next\n",
    "            i += 1\n",
    "        elif key == 'b':\n",
    "            # call prev\n",
    "            i -= 1\n",
    "        with output:\n",
    "            output.clear_output()\n",
    "            render()\n",
    "        \n",
    "event_listener.on_dom_event(handle_event)\n",
    "\n",
    "container = widgets.HBox([prev_btn, next_btn, monitorbox])\n",
    "output = widgets.Output()\n",
    "\n",
    "def navigate(btn):\n",
    "    global i\n",
    "    with output:\n",
    "        output.clear_output()\n",
    "        if btn == next_btn:\n",
    "            i += 1\n",
    "        elif btn == prev_btn:\n",
    "            i -= 1\n",
    "        render()\n",
    "\n",
    "next_btn.on_click(navigate)\n",
    "prev_btn.on_click(navigate)\n",
    "\n",
    "display(container, output)\n",
    "with output:\n",
    "    render()"
   ]
  },
  {
   "cell_type": "code",
   "execution_count": null,
   "metadata": {},
   "outputs": [],
   "source": [
    "from ipywidgets import Label, HTML, HBox, Image, VBox, Box\n",
    "from ipyevents import Event "
   ]
  },
  {
   "cell_type": "code",
   "execution_count": null,
   "metadata": {},
   "outputs": [],
   "source": [
    "print('Key events: ', d.supported_key_events)\n",
    "print('Mouse events: ', d.supported_mouse_events)\n"
   ]
  },
  {
   "cell_type": "code",
   "execution_count": null,
   "metadata": {},
   "outputs": [],
   "source": [
    "l = HTML(value='Status: <span style=\"color: orange\"><b>inactive</b></span>')\n",
    "l"
   ]
  },
  {
   "cell_type": "code",
   "execution_count": null,
   "metadata": {},
   "outputs": [],
   "source": [
    "l = HTML(value='Status: <span style=\"color: orange\"><b>inactive</b></span>')\n",
    "l.layout.border = '2px solid red'\n",
    "\n",
    "monitorbox = HTML(value='Status: <span style=\"color: #d24829\"><b>inactive</b></span> (mouse hover to activate)')\n",
    "monitorbox.layout.border = '1px solid #d24829'\n",
    "monitorbox.layout.padding = '2px 32px'\n",
    "monitorbox.layout.margin = \"0 0 0 8px\"\n",
    "\n",
    "h = HTML('Event info')\n",
    "d = Event(source=monitorbox, watched_events=['click', 'keydown', 'mouseenter', 'mouseleave'])\n",
    "\n",
    "def handle_event(event):\n",
    "    lines = ['{}: {}'.format(k, v) for k, v in event.items()]\n",
    "    content = '<br>'.join(lines)\n",
    "    h.value = content\n",
    "\n",
    "d.on_dom_event(handle_event)\n",
    "                            \n",
    "display(l, h)"
   ]
  },
  {
   "cell_type": "code",
   "execution_count": null,
   "metadata": {},
   "outputs": [],
   "source": []
  }
 ],
 "metadata": {
  "kernelspec": {
   "display_name": "Python 3",
   "language": "python",
   "name": "python3"
  },
  "language_info": {
   "codemirror_mode": {
    "name": "ipython",
    "version": 3
   },
   "file_extension": ".py",
   "mimetype": "text/x-python",
   "name": "python",
   "nbconvert_exporter": "python",
   "pygments_lexer": "ipython3",
   "version": "3.7.6"
  }
 },
 "nbformat": 4,
 "nbformat_minor": 4
}
