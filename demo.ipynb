{
 "cells": [
  {
   "cell_type": "markdown",
   "metadata": {},
   "source": [
    "All essential modules from `labext` can be imported from `labext.prelude`."
   ]
  },
  {
   "cell_type": "code",
   "execution_count": 1,
   "metadata": {},
   "outputs": [],
   "source": [
    "import pandas as pd, numpy as np\n",
    "\n",
    "from IPython.display import HTML, Javascript\n",
    "from labext.prelude import M, A, W\n",
    "\n",
    "%load_ext autoreload\n",
    "%autoreload 2"
   ]
  },
  {
   "cell_type": "markdown",
   "metadata": {},
   "source": [
    "## Javascript modules\n",
    "\n",
    "The Javascript (JS) modules are accessed via the `M` namespace in `labext.prelude`. A module needs to be registered before using. As an example, we register the `DataTable` module to have a better display for pandas DataFrame."
   ]
  },
  {
   "cell_type": "code",
   "execution_count": 2,
   "metadata": {},
   "outputs": [
    {
     "data": {
      "application/javascript": [
       "require.config({ paths: {\"jquery\": \"/custom/labext/jquery/js/jquery-3.3.1.min\"} });\n"
      ],
      "text/plain": [
       "<IPython.core.display.Javascript object>"
      ]
     },
     "metadata": {},
     "output_type": "display_data"
    },
    {
     "data": {
      "application/javascript": [
       "require.config({ paths: {\"data_table\": \"/custom/labext/data_table/js/jquery.dataTables.min\"} });\n",
       "require([\"data_table\", \"jquery\"], function (data_table, jquery) {\n",
       "    if (document.querySelector(\"head link#data_table-css-fds82j1\") === null) {\n",
       "        var el = document.createElement(\"link\");\n",
       "        el.rel = \"stylesheet\";\n",
       "        el.id = \"data_table\";\n",
       "        el.type = \"text/css\";\n",
       "        el.href = \"/custom/labext/data_table/css/jquery.dataTables.min.css\";\n",
       "        document.head.appendChild(el);\n",
       "    }\n",
       "});\n"
      ],
      "text/plain": [
       "<IPython.core.display.Javascript object>"
      ]
     },
     "metadata": {},
     "output_type": "display_data"
    }
   ],
   "source": [
    "M.DataTable.register()"
   ]
  },
  {
   "cell_type": "markdown",
   "metadata": {},
   "source": [
    "The `register` function will return a javascript code that modify your current HTML to inject required JS/CSS files (adding `script` and `link` tags). This function is safe to call repeatedly as it won't pollute your DOM.\n",
    "\n",
    "You can also register multiple modules in one call using `M.register()` function"
   ]
  },
  {
   "cell_type": "code",
   "execution_count": 3,
   "metadata": {},
   "outputs": [
    {
     "data": {
      "application/javascript": [
       "require.config({ paths: {\"data_table\": \"/custom/labext/data_table/js/jquery.dataTables.min\"} });\n",
       "require([\"data_table\", \"jquery\"], function (data_table, jquery) {\n",
       "    if (document.querySelector(\"head link#data_table-css-fds82j1\") === null) {\n",
       "        var el = document.createElement(\"link\");\n",
       "        el.rel = \"stylesheet\";\n",
       "        el.id = \"data_table\";\n",
       "        el.type = \"text/css\";\n",
       "        el.href = \"/custom/labext/data_table/css/jquery.dataTables.min.css\";\n",
       "        document.head.appendChild(el);\n",
       "    }\n",
       "});\n"
      ],
      "text/plain": [
       "<IPython.core.display.Javascript object>"
      ]
     },
     "metadata": {},
     "output_type": "display_data"
    },
    {
     "data": {
      "application/javascript": [
       "require.config({ paths: {\"@popperjs/core\": \"/custom/labext/tippy/js/popper.min\", \"tippy\": \"/custom/labext/tippy/js/tippy-bundle.umd.min\"} });\n",
       "require([\"tippy\"], function (tippy) {\n",
       "    if (document.querySelector(\"head link#tippy-css-fds82j1\") === null) {\n",
       "        var el = document.createElement(\"link\");\n",
       "        el.rel = \"stylesheet\";\n",
       "        el.id = \"tippy\";\n",
       "        el.type = \"text/css\";\n",
       "        el.href = \"/custom/labext/tippy/css/tippy.css\";\n",
       "        document.head.appendChild(el);\n",
       "        var el = document.createElement(\"link\");\n",
       "        el.rel = \"stylesheet\";\n",
       "        el.id = \"tippy\";\n",
       "        el.type = \"text/css\";\n",
       "        el.href = \"/custom/labext/tippy/css/light.css\";\n",
       "        document.head.appendChild(el);\n",
       "    }\n",
       "});\n"
      ],
      "text/plain": [
       "<IPython.core.display.Javascript object>"
      ]
     },
     "metadata": {},
     "output_type": "display_data"
    }
   ],
   "source": [
    "M.register([M.DataTable, M.Tippy])"
   ]
  },
  {
   "cell_type": "markdown",
   "metadata": {},
   "source": [
    "### DataTable\n",
    "\n",
    "This JS module provides a better display for the pandas DataFrame. After the module is registered, all data frame will be converted automatically as shown in the example below.\n",
    "\n",
    "Caveat: if your data frame contains thousands of rows, it will be very slow as DOM elements are created for all of the rows and return to the browser. This is the current limitation of this module. A not very ideal solution is to select top k rows in the data frame (e.g., `df.head(100)`)."
   ]
  },
  {
   "cell_type": "code",
   "execution_count": 4,
   "metadata": {},
   "outputs": [
    {
     "data": {
      "application/javascript": [
       "\n",
       "require([\"data_table\", \"jquery\"], function(dataTables, jquery) {\n",
       "    jquery(element).html(`<table border=\"0\" class=\"dataframe table table-striped table-bordered\">\n",
       "  <thead>\n",
       "    <tr style=\"text-align: left;\">\n",
       "      <th></th>\n",
       "      <th>name</th>\n",
       "      <th>phone</th>\n",
       "      <th>age</th>\n",
       "    </tr>\n",
       "  </thead>\n",
       "  <tbody>\n",
       "    <tr>\n",
       "      <th>0</th>\n",
       "      <td>john</td>\n",
       "      <td>123-231-2321</td>\n",
       "      <td>30</td>\n",
       "    </tr>\n",
       "    <tr>\n",
       "      <th>1</th>\n",
       "      <td>peter</td>\n",
       "      <td>231-231-2321</td>\n",
       "      <td>35</td>\n",
       "    </tr>\n",
       "  </tbody>\n",
       "</table>`);\n",
       "    jquery(document).ready( () => {\n",
       "        // Turn existing table into datatable\n",
       "        jquery(element).find(\"table.dataframe\").DataTable({});\n",
       "    })\n",
       "});"
      ],
      "text/html": [
       "<div>\n",
       "<style scoped>\n",
       "    .dataframe tbody tr th:only-of-type {\n",
       "        vertical-align: middle;\n",
       "    }\n",
       "\n",
       "    .dataframe tbody tr th {\n",
       "        vertical-align: top;\n",
       "    }\n",
       "\n",
       "    .dataframe thead th {\n",
       "        text-align: right;\n",
       "    }\n",
       "</style>\n",
       "<table border=\"1\" class=\"dataframe\">\n",
       "  <thead>\n",
       "    <tr style=\"text-align: right;\">\n",
       "      <th></th>\n",
       "      <th>name</th>\n",
       "      <th>phone</th>\n",
       "      <th>age</th>\n",
       "    </tr>\n",
       "  </thead>\n",
       "  <tbody>\n",
       "    <tr>\n",
       "      <th>0</th>\n",
       "      <td>john</td>\n",
       "      <td>123-231-2321</td>\n",
       "      <td>30</td>\n",
       "    </tr>\n",
       "    <tr>\n",
       "      <th>1</th>\n",
       "      <td>peter</td>\n",
       "      <td>231-231-2321</td>\n",
       "      <td>35</td>\n",
       "    </tr>\n",
       "  </tbody>\n",
       "</table>\n",
       "</div>"
      ],
      "text/plain": [
       "    name         phone  age\n",
       "0   john  123-231-2321   30\n",
       "1  peter  231-231-2321   35"
      ]
     },
     "execution_count": 4,
     "metadata": {},
     "output_type": "execute_result"
    }
   ],
   "source": [
    "df = pd.DataFrame([\n",
    "    ['john', '123-231-2321', 30],\n",
    "    ['peter', '231-231-2321', 35],\n",
    "], columns=['name', 'phone', 'age'])\n",
    "df"
   ]
  },
  {
   "cell_type": "markdown",
   "metadata": {},
   "source": [
    "By default, HTML content is escaped. You can change this behavior by setting arguments for this module as below."
   ]
  },
  {
   "cell_type": "code",
   "execution_count": 5,
   "metadata": {},
   "outputs": [
    {
     "data": {
      "application/javascript": [
       "\n",
       "require([\"data_table\", \"jquery\"], function(dataTables, jquery) {\n",
       "    jquery(element).html(`<table border=\"0\" class=\"dataframe table table-striped table-bordered\">\n",
       "  <thead>\n",
       "    <tr style=\"text-align: left;\">\n",
       "      <th></th>\n",
       "      <th>name</th>\n",
       "      <th>phone</th>\n",
       "      <th>age</th>\n",
       "    </tr>\n",
       "  </thead>\n",
       "  <tbody>\n",
       "    <tr>\n",
       "      <th>0</th>\n",
       "      <td><a href=\"http://google.com?q=john\" style=\"color: blue\" target=\"_blank\">john</a></td>\n",
       "      <td>123-231-2321</td>\n",
       "      <td>30</td>\n",
       "    </tr>\n",
       "  </tbody>\n",
       "</table>`);\n",
       "    jquery(document).ready( () => {\n",
       "        // Turn existing table into datatable\n",
       "        jquery(element).find(\"table.dataframe\").DataTable({});\n",
       "    })\n",
       "});"
      ],
      "text/html": [
       "<div>\n",
       "<style scoped>\n",
       "    .dataframe tbody tr th:only-of-type {\n",
       "        vertical-align: middle;\n",
       "    }\n",
       "\n",
       "    .dataframe tbody tr th {\n",
       "        vertical-align: top;\n",
       "    }\n",
       "\n",
       "    .dataframe thead th {\n",
       "        text-align: right;\n",
       "    }\n",
       "</style>\n",
       "<table border=\"1\" class=\"dataframe\">\n",
       "  <thead>\n",
       "    <tr style=\"text-align: right;\">\n",
       "      <th></th>\n",
       "      <th>name</th>\n",
       "      <th>phone</th>\n",
       "      <th>age</th>\n",
       "    </tr>\n",
       "  </thead>\n",
       "  <tbody>\n",
       "    <tr>\n",
       "      <th>0</th>\n",
       "      <td>&lt;a href=\"http://google.com?q=john\" style=\"colo...</td>\n",
       "      <td>123-231-2321</td>\n",
       "      <td>30</td>\n",
       "    </tr>\n",
       "  </tbody>\n",
       "</table>\n",
       "</div>"
      ],
      "text/plain": [
       "                                                name         phone  age\n",
       "0  <a href=\"http://google.com?q=john\" style=\"colo...  123-231-2321   30"
      ]
     },
     "metadata": {},
     "output_type": "display_data"
    }
   ],
   "source": [
    "M.DataTable.set_args(escape=False)\n",
    "\n",
    "df = pd.DataFrame([\n",
    "    ['<a href=\"http://google.com?q=john\" style=\"color: blue\" target=\"_blank\">john</a>', '123-231-2321', 30]\n",
    "], columns=['name', 'phone', 'age'])\n",
    "display(df)"
   ]
  },
  {
   "cell_type": "markdown",
   "metadata": {},
   "source": [
    "### Tippy\n",
    "\n",
    "This JS module allows you to add additional content that will show only when hovering over a DOM element. The additional content is added via the HTML attribute `data-tippy-content`, if it contains HTML, you can unescape it by setting `data-tippy-allowHTML` to be `true`.\n",
    "\n",
    "Unlike the `DataTable` module. This JS module does not render the content automatically, you have to call `M.Tippy.render()` function after rendering the HTML as in the following example."
   ]
  },
  {
   "cell_type": "code",
   "execution_count": 6,
   "metadata": {},
   "outputs": [
    {
     "data": {
      "application/javascript": [
       "require.config({ paths: {\"@popperjs/core\": \"/custom/labext/tippy/js/popper.min\", \"tippy\": \"/custom/labext/tippy/js/tippy-bundle.umd.min\"} });\n",
       "require([\"tippy\"], function (tippy) {\n",
       "    if (document.querySelector(\"head link#tippy-css-fds82j1\") === null) {\n",
       "        var el = document.createElement(\"link\");\n",
       "        el.rel = \"stylesheet\";\n",
       "        el.id = \"tippy\";\n",
       "        el.type = \"text/css\";\n",
       "        el.href = \"/custom/labext/tippy/css/tippy.css\";\n",
       "        document.head.appendChild(el);\n",
       "        var el = document.createElement(\"link\");\n",
       "        el.rel = \"stylesheet\";\n",
       "        el.id = \"tippy\";\n",
       "        el.type = \"text/css\";\n",
       "        el.href = \"/custom/labext/tippy/css/light.css\";\n",
       "        document.head.appendChild(el);\n",
       "    }\n",
       "});\n"
      ],
      "text/plain": [
       "<IPython.core.display.Javascript object>"
      ]
     },
     "metadata": {},
     "output_type": "display_data"
    }
   ],
   "source": [
    "M.Tippy.register()"
   ]
  },
  {
   "cell_type": "code",
   "execution_count": 7,
   "metadata": {},
   "outputs": [
    {
     "data": {
      "text/html": [
       "<button data-tippy-content=\"<b>Hello</b>, what are you doing?\" data-tippy-allowHTML=\"true\">Button</button>"
      ],
      "text/plain": [
       "<IPython.core.display.HTML object>"
      ]
     },
     "metadata": {},
     "output_type": "display_data"
    },
    {
     "data": {
      "application/javascript": [
       "\n",
       "require([\"@popperjs/core\", \"tippy\"], function (popper, tippy) {\n",
       "    tippy(\"[data-tippy-content]\", {});\n",
       "});"
      ],
      "text/plain": [
       "<IPython.core.display.Javascript object>"
      ]
     },
     "metadata": {},
     "output_type": "display_data"
    }
   ],
   "source": [
    "display(HTML('<button data-tippy-content=\"<b>Hello</b>, what are you doing?\" data-tippy-allowHTML=\"true\">Button</button>'))\n",
    "M.Tippy.render()"
   ]
  },
  {
   "cell_type": "markdown",
   "metadata": {},
   "source": [
    "Similar to the **DataTable** module, we can also configure the module for our need. For example, we may want the pop-over to not disappear so that we can interact with the content such as clicking the link.\n",
    "\n",
    "All configurations are available on [**Tipply**'s website](https://atomiks.github.io/tippyjs/v6/all-props/)."
   ]
  },
  {
   "cell_type": "code",
   "execution_count": 8,
   "metadata": {},
   "outputs": [],
   "source": [
    "M.Tippy.set_args(interactive=True, placement=\"right\")"
   ]
  },
  {
   "cell_type": "code",
   "execution_count": 9,
   "metadata": {},
   "outputs": [
    {
     "data": {
      "text/html": [
       "<div style=\"height: 25px\"><button data-tippy-content=\"<b>Hello</b>, please click to visit <a href='https://google.com' target='_blank'>google.com</a>\" data-tippy-allowHTML=\"true\">Button</button></div>"
      ],
      "text/plain": [
       "<IPython.core.display.HTML object>"
      ]
     },
     "metadata": {},
     "output_type": "display_data"
    },
    {
     "data": {
      "application/javascript": [
       "\n",
       "require([\"@popperjs/core\", \"tippy\"], function (popper, tippy) {\n",
       "    tippy(\"[data-tippy-content]\", {\"interactive\": true, \"placement\": \"right\"});\n",
       "});"
      ],
      "text/plain": [
       "<IPython.core.display.Javascript object>"
      ]
     },
     "metadata": {},
     "output_type": "display_data"
    }
   ],
   "source": [
    "# we need the set the height of the container, as interactive Tippy's content is behind it, not like non-interactive content\n",
    "popover = \"<b>Hello</b>, please click to visit <a href='https://google.com' target='_blank'>google.com</a>\"\n",
    "display(HTML(f'<div style=\"height: 25px\"><button data-tippy-content=\"{popover}\" data-tippy-allowHTML=\"true\">Button</button></div>'))\n",
    "M.Tippy.render()"
   ]
  },
  {
   "cell_type": "markdown",
   "metadata": {},
   "source": [
    "## Pre-built UI components"
   ]
  },
  {
   "cell_type": "markdown",
   "metadata": {},
   "source": [
    "This library provides some UI components allowing us to interactive annotate/explore data. These components can be accessed via the `A` namespace."
   ]
  },
  {
   "cell_type": "markdown",
   "metadata": {},
   "source": [
    "### Slider\n",
    "\n",
    "This component is for displaying an item in a list, and changing the item interactively. You need to provide a function that render the item given its index. The range of the slider is defined by two parameters: `min` (default 0) and `max` (inclusive)."
   ]
  },
  {
   "cell_type": "code",
   "execution_count": 10,
   "metadata": {},
   "outputs": [
    {
     "data": {
      "application/vnd.jupyter.widget-view+json": {
       "model_id": "f3bd4c4675f04900b35286d6a0179103",
       "version_major": 2,
       "version_minor": 0
      },
      "text/plain": [
       "HBox(children=(Button(description='Previous', icon='arrow-circle-left', style=ButtonStyle()), Button(descripti…"
      ]
     },
     "metadata": {},
     "output_type": "display_data"
    },
    {
     "data": {
      "application/vnd.jupyter.widget-view+json": {
       "model_id": "279b279c98184d0399f547bb56ad8ca6",
       "version_major": 2,
       "version_minor": 0
      },
      "text/plain": [
       "Output()"
      ]
     },
     "metadata": {},
     "output_type": "display_data"
    }
   ],
   "source": [
    "lst = [\"google.com\", \"amazon.com\", \"microsoft.com\"]\n",
    "\n",
    "def render(index):\n",
    "    item = lst[index]\n",
    "    display(HTML(f\"<a href='https://{item}' target='_blank'>{item}</a>\"))\n",
    "    \n",
    "A.slider(render, max=len(lst) - 1)"
   ]
  },
  {
   "cell_type": "markdown",
   "metadata": {},
   "source": [
    "### Annotator\n",
    "\n",
    "This component is for annotating a list of examples. Each example instance needs to have an `id` property (type `str`), and a `render` function to display the example. You can create a class that inherits the `A.annotators.Example` class to make sure that you implement the correct methods, and for python 3 type check to not complain, but it's completely optional.\n",
    "\n",
    "Below is a simple example of classifying positive and negative reviews."
   ]
  },
  {
   "cell_type": "code",
   "execution_count": 11,
   "metadata": {},
   "outputs": [],
   "source": [
    "class MyExample:\n",
    "    def __init__(self, id, review):\n",
    "        self.review = review\n",
    "        self.id = str(id)\n",
    "        \n",
    "    def render(self):\n",
    "        display(HTML(\"<p>\" + self.review + \"</p>\"))\n",
    "        \n",
    "reviews = [\"It broke after two days\", \"It works as expected\", \"Good price\"]\n",
    "examples = [MyExample(i, review) for i, review in enumerate(reviews)]"
   ]
  },
  {
   "cell_type": "markdown",
   "metadata": {},
   "source": [
    "This library provides basic annotators for the classification task: `A.annotators.ClassificationAnnotator` and `A.annotators.BatchClassificationAnnotator` (display multiple examples in one page). The annotated data is stored in a given file so you do not need to worry about losing your progress. The output file is in the CSV format, where the first column is the example id, and the second column is the label that you assigned.\n",
    "\n",
    "If you need to customize these annotators (for example, assign multiple classes to one example), you can implement the abstract class `A.annotators.Annotator` or `A.annotators.PersistentAnnotator`. For more details, you can read the documentation in these classes."
   ]
  },
  {
   "cell_type": "code",
   "execution_count": 12,
   "metadata": {},
   "outputs": [
    {
     "data": {
      "application/vnd.jupyter.widget-view+json": {
       "model_id": "3d2521849b53401f8a33a0f5136a4e52",
       "version_major": 2,
       "version_minor": 0
      },
      "text/plain": [
       "Output(layout=Layout(border='1px solid #d24829', margin='0 0 0 -2px', padding='2px'))"
      ]
     },
     "metadata": {},
     "output_type": "display_data"
    }
   ],
   "source": [
    "outfile = \"/tmp/labeled_data.csv\"\n",
    "annotator = A.annotators.ClassificationAnnotator(outfile, examples, [\"positive\", \"negative\"])\n",
    "annotator.render()"
   ]
  },
  {
   "cell_type": "code",
   "execution_count": 13,
   "metadata": {},
   "outputs": [
    {
     "data": {
      "application/vnd.jupyter.widget-view+json": {
       "model_id": "e2261a7e990d480cb3ce206902e957f0",
       "version_major": 2,
       "version_minor": 0
      },
      "text/plain": [
       "Output(layout=Layout(border='1px solid #d24829', margin='0 0 0 -2px', padding='2px'))"
      ]
     },
     "metadata": {},
     "output_type": "display_data"
    }
   ],
   "source": [
    "outfile = \"/tmp/labeled_data.csv\"\n",
    "annotator = A.annotators.BatchClassificationAnnotator(outfile, examples, [\"positive\", \"negative\"], batch_size=3)\n",
    "annotator.render()"
   ]
  },
  {
   "cell_type": "markdown",
   "metadata": {},
   "source": [
    "You can get the annotated result directly from the file, or from the `annotator.labeled_examples` property"
   ]
  },
  {
   "cell_type": "code",
   "execution_count": 14,
   "metadata": {},
   "outputs": [
    {
     "data": {
      "text/plain": [
       "{}"
      ]
     },
     "execution_count": 14,
     "metadata": {},
     "output_type": "execute_result"
    }
   ],
   "source": [
    "annotator.labeled_examples"
   ]
  },
  {
   "cell_type": "code",
   "execution_count": 15,
   "metadata": {},
   "outputs": [
    {
     "name": "stdout",
     "output_type": "stream",
     "text": [
      "cat: /tmp/labeled_data.csv: No such file or directory\n"
     ]
    }
   ],
   "source": [
    "!cat {outfile}"
   ]
  },
  {
   "cell_type": "markdown",
   "metadata": {},
   "source": [
    "## Additional widgets\n",
    "\n",
    "This library also provides some primitive widgets that you can use to build your own components. Those widgets can be imported via the `W` namespace.\n",
    "\n",
    "A widget may require some JS modules, so you need to registered them as in the following examples:"
   ]
  },
  {
   "cell_type": "code",
   "execution_count": 16,
   "metadata": {},
   "outputs": [],
   "source": [
    "M.register(W.HideableButton.required_modules())"
   ]
  },
  {
   "cell_type": "markdown",
   "metadata": {},
   "source": [
    "### HideableButton"
   ]
  },
  {
   "cell_type": "code",
   "execution_count": 33,
   "metadata": {},
   "outputs": [
    {
     "data": {
      "application/vnd.jupyter.widget-view+json": {
       "model_id": "e8969d95d7144119ac76077920158359",
       "version_major": 2,
       "version_minor": 0
      },
      "text/plain": [
       "VBox(children=(Button(description='click to show', style=ButtonStyle()), Output(layout=Layout(display='none'))…"
      ]
     },
     "metadata": {},
     "output_type": "display_data"
    }
   ],
   "source": [
    "import ipywidgets as widgets\n",
    "\n",
    "def render():    \n",
    "    display(widgets.Button(description='another button'))\n",
    "    \n",
    "display(W.HideableButton('click to show', render, show_event='click').widget)"
   ]
  },
  {
   "cell_type": "markdown",
   "metadata": {},
   "source": [
    "-----------"
   ]
  }
 ],
 "metadata": {
  "kernelspec": {
   "display_name": "Python 3",
   "language": "python",
   "name": "python3"
  },
  "language_info": {
   "codemirror_mode": {
    "name": "ipython",
    "version": 3
   },
   "file_extension": ".py",
   "mimetype": "text/x-python",
   "name": "python",
   "nbconvert_exporter": "python",
   "pygments_lexer": "ipython3",
   "version": "3.7.6"
  }
 },
 "nbformat": 4,
 "nbformat_minor": 4
}
