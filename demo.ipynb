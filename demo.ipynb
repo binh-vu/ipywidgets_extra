{
 "cells": [
  {
   "cell_type": "code",
   "execution_count": 1,
   "metadata": {},
   "outputs": [],
   "source": [
    "import pandas as pd, numpy as np\n",
    "\n",
    "from IPython.display import HTML, Javascript\n",
    "from labext.prelude import M"
   ]
  },
  {
   "cell_type": "markdown",
   "metadata": {},
   "source": [
    "**Better display for pandas DataFrame**"
   ]
  },
  {
   "cell_type": "code",
   "execution_count": 2,
   "metadata": {},
   "outputs": [
    {
     "data": {
      "application/javascript": [
       "require.config({ paths: {\"jquery\": \"/custom/labext/jquery/js/jquery-3.3.1.min\"} });\n"
      ],
      "text/plain": [
       "<IPython.core.display.Javascript object>"
      ]
     },
     "metadata": {},
     "output_type": "display_data"
    },
    {
     "data": {
      "application/javascript": [
       "require.config({ paths: {\"data_table\": \"/custom/labext/data_table/js/jquery.dataTables.min\"} });\n",
       "require([\"data_table\", \"jquery\"], function (data_table, jquery) {\n",
       "    if (document.querySelector(\"head link#data_table-css-fds82j1\") === null) {\n",
       "        var el = document.createElement(\"link\");\n",
       "        el.rel = \"stylesheet\";\n",
       "        el.id = \"data_table\";\n",
       "        el.type = \"text/css\";\n",
       "        el.href = \"/custom/labext/data_table/css/jquery.dataTables.min.css\";\n",
       "        document.head.appendChild(el);\n",
       "    }\n",
       "});\n"
      ],
      "text/plain": [
       "<IPython.core.display.Javascript object>"
      ]
     },
     "metadata": {},
     "output_type": "display_data"
    }
   ],
   "source": [
    "M.DataTable.register()"
   ]
  },
  {
   "cell_type": "code",
   "execution_count": 3,
   "metadata": {},
   "outputs": [
    {
     "data": {
      "application/javascript": [
       "\n",
       "require([\"data_table\", \"jquery\"], function(dataTables, jquery) {\n",
       "    jquery(element).html(`<table border=\"0\" class=\"dataframe table table-striped table-bordered\">\n",
       "  <thead>\n",
       "    <tr style=\"text-align: left;\">\n",
       "      <th></th>\n",
       "      <th>0</th>\n",
       "      <th>1</th>\n",
       "      <th>2</th>\n",
       "    </tr>\n",
       "  </thead>\n",
       "  <tbody>\n",
       "    <tr>\n",
       "      <th>0</th>\n",
       "      <td>name</td>\n",
       "      <td>phone</td>\n",
       "      <td>age</td>\n",
       "    </tr>\n",
       "    <tr>\n",
       "      <th>1</th>\n",
       "      <td>john</td>\n",
       "      <td>123-231-2321</td>\n",
       "      <td>30</td>\n",
       "    </tr>\n",
       "    <tr>\n",
       "      <th>2</th>\n",
       "      <td>peter</td>\n",
       "      <td>231-231-2321</td>\n",
       "      <td>35</td>\n",
       "    </tr>\n",
       "  </tbody>\n",
       "</table>`);\n",
       "    jquery(document).ready( () => {\n",
       "        // Turn existing table into datatable\n",
       "        jquery(element).find(\"table.dataframe\").DataTable();\n",
       "    })\n",
       "});"
      ],
      "text/html": [
       "<div>\n",
       "<style scoped>\n",
       "    .dataframe tbody tr th:only-of-type {\n",
       "        vertical-align: middle;\n",
       "    }\n",
       "\n",
       "    .dataframe tbody tr th {\n",
       "        vertical-align: top;\n",
       "    }\n",
       "\n",
       "    .dataframe thead th {\n",
       "        text-align: right;\n",
       "    }\n",
       "</style>\n",
       "<table border=\"1\" class=\"dataframe\">\n",
       "  <thead>\n",
       "    <tr style=\"text-align: right;\">\n",
       "      <th></th>\n",
       "      <th>0</th>\n",
       "      <th>1</th>\n",
       "      <th>2</th>\n",
       "    </tr>\n",
       "  </thead>\n",
       "  <tbody>\n",
       "    <tr>\n",
       "      <th>0</th>\n",
       "      <td>name</td>\n",
       "      <td>phone</td>\n",
       "      <td>age</td>\n",
       "    </tr>\n",
       "    <tr>\n",
       "      <th>1</th>\n",
       "      <td>john</td>\n",
       "      <td>123-231-2321</td>\n",
       "      <td>30</td>\n",
       "    </tr>\n",
       "    <tr>\n",
       "      <th>2</th>\n",
       "      <td>peter</td>\n",
       "      <td>231-231-2321</td>\n",
       "      <td>35</td>\n",
       "    </tr>\n",
       "  </tbody>\n",
       "</table>\n",
       "</div>"
      ],
      "text/plain": [
       "       0             1    2\n",
       "0   name         phone  age\n",
       "1   john  123-231-2321   30\n",
       "2  peter  231-231-2321   35"
      ]
     },
     "execution_count": 3,
     "metadata": {},
     "output_type": "execute_result"
    }
   ],
   "source": [
    "df = pd.DataFrame([\n",
    "    ['name', 'phone', 'age'],\n",
    "    ['john', '123-231-2321', 30],\n",
    "    ['peter', '231-231-2321', 35],\n",
    "])\n",
    "df"
   ]
  },
  {
   "cell_type": "markdown",
   "metadata": {},
   "source": [
    "**Tippy:** shows pop-over of HTML elements"
   ]
  },
  {
   "cell_type": "code",
   "execution_count": 4,
   "metadata": {},
   "outputs": [
    {
     "data": {
      "application/javascript": [
       "require.config({ paths: {\"@popperjs/core\": \"/custom/labext/tippy/js/popper.min\", \"tippy\": \"/custom/labext/tippy/js/tippy-bundle.umd.min\"} });\n",
       "require([\"tippy\"], function (tippy) {\n",
       "    if (document.querySelector(\"head link#tippy-css-fds82j1\") === null) {\n",
       "        var el = document.createElement(\"link\");\n",
       "        el.rel = \"stylesheet\";\n",
       "        el.id = \"tippy\";\n",
       "        el.type = \"text/css\";\n",
       "        el.href = \"/custom/labext/tippy/css/tippy.css\";\n",
       "        document.head.appendChild(el);\n",
       "    }\n",
       "});\n"
      ],
      "text/plain": [
       "<IPython.core.display.Javascript object>"
      ]
     },
     "metadata": {},
     "output_type": "display_data"
    }
   ],
   "source": [
    "M.Tippy.register()"
   ]
  },
  {
   "cell_type": "code",
   "execution_count": 5,
   "metadata": {},
   "outputs": [
    {
     "data": {
      "text/html": [
       "<button data-tippy-content=\"<b>Hello</b>, what are you doing?\" data-tippy-allowHTML=\"true\">Button</button>"
      ],
      "text/plain": [
       "<IPython.core.display.HTML object>"
      ]
     },
     "metadata": {},
     "output_type": "display_data"
    }
   ],
   "source": [
    "display(HTML('<button data-tippy-content=\"<b>Hello</b>, what are you doing?\" data-tippy-allowHTML=\"true\">Button</button>'))"
   ]
  },
  {
   "cell_type": "code",
   "execution_count": 6,
   "metadata": {},
   "outputs": [
    {
     "data": {
      "application/javascript": [
       "\n",
       "require([\"@popperjs/core\", \"tippy\"], function (popper, tippy) {\n",
       "    tippy('[data-tippy-content]');\n",
       "});"
      ],
      "text/plain": [
       "<IPython.core.display.Javascript object>"
      ]
     },
     "metadata": {},
     "output_type": "display_data"
    }
   ],
   "source": [
    "M.Tippy.render()"
   ]
  },
  {
   "cell_type": "code",
   "execution_count": null,
   "metadata": {},
   "outputs": [],
   "source": []
  }
 ],
 "metadata": {
  "kernelspec": {
   "display_name": "Python 3",
   "language": "python",
   "name": "python3"
  },
  "language_info": {
   "codemirror_mode": {
    "name": "ipython",
    "version": 3
   },
   "file_extension": ".py",
   "mimetype": "text/x-python",
   "name": "python",
   "nbconvert_exporter": "python",
   "pygments_lexer": "ipython3",
   "version": "3.7.6"
  }
 },
 "nbformat": 4,
 "nbformat_minor": 4
}
