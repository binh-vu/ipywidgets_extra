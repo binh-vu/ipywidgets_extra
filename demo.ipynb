{
 "cells": [
  {
   "cell_type": "markdown",
   "metadata": {},
   "source": [
    "All essential modules from `labext` can be imported from `labext.prelude`."
   ]
  },
  {
   "cell_type": "code",
   "execution_count": 1,
   "metadata": {},
   "outputs": [],
   "source": [
    "import pandas as pd, numpy as np, ipywidgets as widgets, json\n",
    "\n",
    "from IPython.display import HTML, Javascript\n",
    "from labext.prelude import M, A, W\n",
    "\n",
    "%load_ext autoreload\n",
    "%autoreload 2"
   ]
  },
  {
   "cell_type": "markdown",
   "metadata": {},
   "source": [
    "## Javascript modules\n",
    "\n",
    "The Javascript (JS) modules are accessed via the `M` namespace in `labext.prelude`. A module needs to be registered before using. As an example, we register the `DataTable` module to have a better display for pandas DataFrame."
   ]
  },
  {
   "cell_type": "code",
   "execution_count": 2,
   "metadata": {},
   "outputs": [
    {
     "data": {
      "application/javascript": [
       "require.config({ paths: {\"jquery\": \"/custom/labext/jquery/js/jquery-3.3.1.min\"} });\n"
      ],
      "text/plain": [
       "<IPython.core.display.Javascript object>"
      ]
     },
     "metadata": {},
     "output_type": "display_data"
    },
    {
     "data": {
      "application/javascript": [
       "require.config({ paths: {\"data_table\": \"/custom/labext/data_table/js/jquery.dataTables.min\"} });\n",
       "require([\"data_table\", \"jquery\"], function (data_table, jquery) {\n",
       "    if (document.querySelector(\"head link#data_table-css-fds82j1\") === null) {\n",
       "        var el = document.createElement(\"link\");\n",
       "        el.rel = \"stylesheet\";\n",
       "        el.id = \"data_table\";\n",
       "        el.type = \"text/css\";\n",
       "        el.href = \"/custom/labext/data_table/css/jquery.dataTables.min.css\";\n",
       "        document.head.appendChild(el);\n",
       "    }\n",
       "});\n"
      ],
      "text/plain": [
       "<IPython.core.display.Javascript object>"
      ]
     },
     "metadata": {},
     "output_type": "display_data"
    }
   ],
   "source": [
    "M.DataTable.register()"
   ]
  },
  {
   "cell_type": "markdown",
   "metadata": {},
   "source": [
    "The `register` function will return a javascript code that modify your current HTML to inject required JS/CSS files (adding `script` and `link` tags). This function is safe to call repeatedly as it won't pollute your DOM.\n",
    "\n",
    "You can also register multiple modules in one call using `M.register()` function"
   ]
  },
  {
   "cell_type": "code",
   "execution_count": 3,
   "metadata": {},
   "outputs": [
    {
     "data": {
      "application/javascript": [
       "require.config({ paths: {\"data_table\": \"/custom/labext/data_table/js/jquery.dataTables.min\"} });\n",
       "require([\"data_table\", \"jquery\"], function (data_table, jquery) {\n",
       "    if (document.querySelector(\"head link#data_table-css-fds82j1\") === null) {\n",
       "        var el = document.createElement(\"link\");\n",
       "        el.rel = \"stylesheet\";\n",
       "        el.id = \"data_table\";\n",
       "        el.type = \"text/css\";\n",
       "        el.href = \"/custom/labext/data_table/css/jquery.dataTables.min.css\";\n",
       "        document.head.appendChild(el);\n",
       "    }\n",
       "});\n",
       "\n",
       "require.config({ paths: {\"@popperjs/core\": \"/custom/labext/tippy/js/popper.min\", \"tippy\": \"/custom/labext/tippy/js/tippy-bundle.umd.min\"} });\n",
       "require([\"tippy\"], function (tippy) {\n",
       "    if (document.querySelector(\"head link#tippy-css-fds82j1\") === null) {\n",
       "        var el = document.createElement(\"link\");\n",
       "        el.rel = \"stylesheet\";\n",
       "        el.id = \"tippy\";\n",
       "        el.type = \"text/css\";\n",
       "        el.href = \"/custom/labext/tippy/css/tippy.css\";\n",
       "        document.head.appendChild(el);\n",
       "        var el = document.createElement(\"link\");\n",
       "        el.rel = \"stylesheet\";\n",
       "        el.id = \"tippy\";\n",
       "        el.type = \"text/css\";\n",
       "        el.href = \"/custom/labext/tippy/css/light.css\";\n",
       "        document.head.appendChild(el);\n",
       "    }\n",
       "});\n"
      ],
      "text/plain": [
       "<IPython.core.display.Javascript object>"
      ]
     },
     "metadata": {},
     "output_type": "display_data"
    }
   ],
   "source": [
    "M.register([M.DataTable, M.Tippy])"
   ]
  },
  {
   "cell_type": "markdown",
   "metadata": {},
   "source": [
    "### DataTable\n",
    "\n",
    "This JS module provides a better display for the pandas DataFrame. To display the DataFrame beautifully, just call the render function of the module. Under the hood, the render function will construct a DataTable widget and render it.\n",
    "\n",
    "This is different with previous `labext` version in which the DataFrame is converted automatically. By creating a widget for the DataFrame, we are able to handle large tables as we do not render the whole table, but only part of the table depends on the pagination parameters."
   ]
  },
  {
   "cell_type": "code",
   "execution_count": 21,
   "metadata": {},
   "outputs": [
    {
     "data": {
      "application/vnd.jupyter.widget-view+json": {
       "model_id": "b4d4f1ad2ece4c95a13140c4f0855321",
       "version_major": 2,
       "version_minor": 0
      },
      "text/plain": [
       "HTML(value='', _dom_classes=('DataTable_b4d4f1ad2ece4c95a13140c4f0855321',))"
      ]
     },
     "metadata": {},
     "output_type": "display_data"
    },
    {
     "data": {
      "application/vnd.jupyter.widget-view+json": {
       "model_id": "b1f33b6057ba4958b0d1d1e909755c2d",
       "version_major": 2,
       "version_minor": 0
      },
      "text/plain": [
       "SlowTunnelWidget(js_endpoint=(0, ''), py_endpoint=(0, ''), tunnel_id='b13b9c1e-17fc-4965-83b9-50d669a3481a')"
      ]
     },
     "metadata": {},
     "output_type": "display_data"
    },
    {
     "data": {
      "application/javascript": [
       "class LabExtDataTable {\n",
       "    constructor(jquery, container, tunnel, columns, table_style, options = {}) {\n",
       "        this.$ = jquery;\n",
       "        this.$container = container;\n",
       "        this.tunnel = tunnel;\n",
       "        this.columns = columns;\n",
       "        this.table_style = table_style;\n",
       "        this.options = Object.assign({ deferRender: true, serverSide: true }, options);\n",
       "        this.isInitComplete = false;\n",
       "        this.tunnel.send_msg(JSON.stringify({ \"type\": \"handshake\", \"msg\": \"initialized\" }));\n",
       "    }\n",
       "    render() {\n",
       "        // now render the content\n",
       "        let $tbl = $(\"<table></table>\")\n",
       "            .attr({ \"class\": this.table_style })\n",
       "            .css({ \"width\": \"100%\" })\n",
       "            .appendTo(this.$container.empty());\n",
       "        $tbl.DataTable(Object.assign({ columns: this.columns.map(name => ({ title: name })), ajax: (data, callback, settings) => {\n",
       "                // documentation in here: https://datatables.net/manual/server-side\n",
       "                let version = this.tunnel.send_msg(JSON.stringify({\n",
       "                    type: \"query\",\n",
       "                    msg: {\n",
       "                        start: data.start || 0,\n",
       "                        length: data.length || 10,\n",
       "                    }\n",
       "                }));\n",
       "                this.tunnel.on_receive((returned_version, msg) => {\n",
       "                    if (returned_version !== version) {\n",
       "                        return;\n",
       "                    }\n",
       "                    let resp = JSON.parse(msg);\n",
       "                    callback({\n",
       "                        recordsTotal: resp.recordsTotal,\n",
       "                        recordsFiltered: resp.recordsFiltered,\n",
       "                        data: resp.data\n",
       "                    });\n",
       "                });\n",
       "            }, initComplete: () => {\n",
       "                this.isInitComplete = true;\n",
       "            } }, this.options));\n",
       "    }\n",
       "}\n",
       "require(['jquery'], function (jquery) {\n",
       "                __CallUntilReturnTrue_BV12__(function () {\n",
       "                    if (window.IPyCallback === undefined || window.IPyCallback.get(\"b13b9c1e-17fc-4965-83b9-50d669a3481a\") === undefined) {\n",
       "                        return false;\n",
       "                    }\n",
       "                    \n",
       "                    let el = jquery(\".DataTable_b4d4f1ad2ece4c95a13140c4f0855321 > div.widget-html-content\");\n",
       "                    if (el.length === 0) {\n",
       "                        return false;\n",
       "                    }\n",
       "                    \n",
       "                    // fix the issue of horizontal scrolling (the size goes beyond the border as jupyter set overflow\n",
       "                    // to be visible\n",
       "                    el.css('overflow-x', 'scroll');\n",
       "                    el.parent().css('overflow-x', 'scroll');\n",
       "                    el.parent().parent().css('overflow-x', 'scroll');\n",
       "                    \n",
       "                    if (window.LabExtContainer1292931.DataTable === undefined) {\n",
       "                        window.LabExtContainer1292931.DataTable = new Map();\n",
       "                    }\n",
       "                    \n",
       "                    let tunnel = window.IPyCallback.get(\"b13b9c1e-17fc-4965-83b9-50d669a3481a\");\n",
       "                    let model = new LabExtDataTable(\n",
       "                        jquery, el, tunnel,\n",
       "                        [\"name\",\"phone\",\"age\"], \"display\", {}\n",
       "                    );\n",
       "                    model.render();\n",
       "                    window.LabExtContainer1292931.DataTable.set(\"b13b9c1e-17fc-4965-83b9-50d669a3481a\", model);\n",
       "                    return true;\n",
       "                }, 100);\n",
       "            });"
      ],
      "text/plain": [
       "<IPython.core.display.Javascript object>"
      ]
     },
     "metadata": {},
     "output_type": "display_data"
    }
   ],
   "source": [
    "df = pd.DataFrame([\n",
    "    ['<a href=\"http://google.com?q=john\" style=\"color: blue\" target=\"_blank\">john</a>', '123-231-2321', 30],\n",
    "    ['peter', '231-231-2321', 35],\n",
    "], columns=['name', 'phone', 'age'])\n",
    "\n",
    "M.DataTable.render(df)"
   ]
  },
  {
   "cell_type": "code",
   "execution_count": 24,
   "metadata": {},
   "outputs": [
    {
     "data": {
      "application/vnd.jupyter.widget-view+json": {
       "model_id": "b55c011d0f9d479aa626e18295fbba93",
       "version_major": 2,
       "version_minor": 0
      },
      "text/plain": [
       "HTML(value='', _dom_classes=('DataTable_b55c011d0f9d479aa626e18295fbba93',))"
      ]
     },
     "metadata": {},
     "output_type": "display_data"
    },
    {
     "data": {
      "application/vnd.jupyter.widget-view+json": {
       "model_id": "10f67e5c183645fc8a335529434e2154",
       "version_major": 2,
       "version_minor": 0
      },
      "text/plain": [
       "SlowTunnelWidget(js_endpoint=(0, ''), py_endpoint=(0, ''), tunnel_id='25c715cb-1f8f-410c-998c-52b4bb8fc0a4')"
      ]
     },
     "metadata": {},
     "output_type": "display_data"
    },
    {
     "data": {
      "application/javascript": [
       "class LabExtDataTable {\n",
       "    constructor(jquery, container, tunnel, columns, table_style, options = {}) {\n",
       "        this.$ = jquery;\n",
       "        this.$container = container;\n",
       "        this.tunnel = tunnel;\n",
       "        this.columns = columns;\n",
       "        this.table_style = table_style;\n",
       "        this.options = Object.assign({ deferRender: true, serverSide: true }, options);\n",
       "        this.isInitComplete = false;\n",
       "        this.tunnel.send_msg(JSON.stringify({ \"type\": \"handshake\", \"msg\": \"initialized\" }));\n",
       "    }\n",
       "    render() {\n",
       "        // now render the content\n",
       "        let $tbl = $(\"<table></table>\")\n",
       "            .attr({ \"class\": this.table_style })\n",
       "            .css({ \"width\": \"100%\" })\n",
       "            .appendTo(this.$container.empty());\n",
       "        $tbl.DataTable(Object.assign({ columns: this.columns.map(name => ({ title: name })), ajax: (data, callback, settings) => {\n",
       "                // documentation in here: https://datatables.net/manual/server-side\n",
       "                let version = this.tunnel.send_msg(JSON.stringify({\n",
       "                    type: \"query\",\n",
       "                    msg: {\n",
       "                        start: data.start || 0,\n",
       "                        length: data.length || 10,\n",
       "                    }\n",
       "                }));\n",
       "                this.tunnel.on_receive((returned_version, msg) => {\n",
       "                    if (returned_version !== version) {\n",
       "                        return;\n",
       "                    }\n",
       "                    let resp = JSON.parse(msg);\n",
       "                    callback({\n",
       "                        recordsTotal: resp.recordsTotal,\n",
       "                        recordsFiltered: resp.recordsFiltered,\n",
       "                        data: resp.data\n",
       "                    });\n",
       "                });\n",
       "            }, initComplete: () => {\n",
       "                this.isInitComplete = true;\n",
       "            } }, this.options));\n",
       "    }\n",
       "}\n",
       "require(['jquery'], function (jquery) {\n",
       "                __CallUntilReturnTrue_BV12__(function () {\n",
       "                    if (window.IPyCallback === undefined || window.IPyCallback.get(\"25c715cb-1f8f-410c-998c-52b4bb8fc0a4\") === undefined) {\n",
       "                        return false;\n",
       "                    }\n",
       "                    \n",
       "                    let el = jquery(\".DataTable_b55c011d0f9d479aa626e18295fbba93 > div.widget-html-content\");\n",
       "                    if (el.length === 0) {\n",
       "                        return false;\n",
       "                    }\n",
       "                    \n",
       "                    // fix the issue of horizontal scrolling (the size goes beyond the border as jupyter set overflow\n",
       "                    // to be visible\n",
       "                    el.css('overflow-x', 'scroll');\n",
       "                    el.parent().css('overflow-x', 'scroll');\n",
       "                    el.parent().parent().css('overflow-x', 'scroll');\n",
       "                    \n",
       "                    if (window.LabExtContainer1292931.DataTable === undefined) {\n",
       "                        window.LabExtContainer1292931.DataTable = new Map();\n",
       "                    }\n",
       "                    \n",
       "                    let tunnel = window.IPyCallback.get(\"25c715cb-1f8f-410c-998c-52b4bb8fc0a4\");\n",
       "                    let model = new LabExtDataTable(\n",
       "                        jquery, el, tunnel,\n",
       "                        [\"col_0\",\"col_1\",\"col_2\",\"col_3\",\"col_4\",\"col_5\",\"col_6\",\"col_7\",\"col_8\",\"col_9\",\"col_10\",\"col_11\",\"col_12\",\"col_13\",\"col_14\",\"col_15\",\"col_16\",\"col_17\",\"col_18\",\"col_19\",\"col_20\",\"col_21\",\"col_22\",\"col_23\",\"col_24\",\"col_25\",\"col_26\",\"col_27\",\"col_28\",\"col_29\"], \"display\", {\"scrollX\":true,\"lengthMenu\":[[3,5],[3,5]]}\n",
       "                    );\n",
       "                    model.render();\n",
       "                    window.LabExtContainer1292931.DataTable.set(\"25c715cb-1f8f-410c-998c-52b4bb8fc0a4\", model);\n",
       "                    return true;\n",
       "                }, 100);\n",
       "            });"
      ],
      "text/plain": [
       "<IPython.core.display.Javascript object>"
      ]
     },
     "metadata": {},
     "output_type": "display_data"
    }
   ],
   "source": [
    "df = pd.DataFrame([\n",
    "    [f'row_{j}_{i}' for i in range(30)]\n",
    "    for j in range(100)\n",
    "], columns=[f'col_{i}' for i in range(30)])\n",
    "\n",
    "M.DataTable.render(df, scrollX=True, lengthMenu=[[3, 5], [3, 5]])"
   ]
  },
  {
   "cell_type": "markdown",
   "metadata": {},
   "source": [
    "### Tippy\n",
    "\n",
    "This JS module allows you to add additional content that will show only when hovering over a DOM element. The additional content is added via the HTML attribute `data-tippy-content`, if it contains HTML, you can unescape it by setting `data-tippy-allowHTML` to be `true`.\n",
    "\n",
    "Similar to the `DataTable` module. This JS module does not render the content automatically, you have to call `M.Tippy.render()` function after rendering the HTML as in the following example."
   ]
  },
  {
   "cell_type": "code",
   "execution_count": 6,
   "metadata": {},
   "outputs": [
    {
     "data": {
      "application/javascript": [
       "require.config({ paths: {\"@popperjs/core\": \"/custom/labext/tippy/js/popper.min\", \"tippy\": \"/custom/labext/tippy/js/tippy-bundle.umd.min\"} });\n",
       "require([\"tippy\"], function (tippy) {\n",
       "    if (document.querySelector(\"head link#tippy-css-fds82j1\") === null) {\n",
       "        var el = document.createElement(\"link\");\n",
       "        el.rel = \"stylesheet\";\n",
       "        el.id = \"tippy\";\n",
       "        el.type = \"text/css\";\n",
       "        el.href = \"/custom/labext/tippy/css/tippy.css\";\n",
       "        document.head.appendChild(el);\n",
       "        var el = document.createElement(\"link\");\n",
       "        el.rel = \"stylesheet\";\n",
       "        el.id = \"tippy\";\n",
       "        el.type = \"text/css\";\n",
       "        el.href = \"/custom/labext/tippy/css/light.css\";\n",
       "        document.head.appendChild(el);\n",
       "    }\n",
       "});\n"
      ],
      "text/plain": [
       "<IPython.core.display.Javascript object>"
      ]
     },
     "metadata": {},
     "output_type": "display_data"
    }
   ],
   "source": [
    "M.Tippy.register()"
   ]
  },
  {
   "cell_type": "code",
   "execution_count": 43,
   "metadata": {},
   "outputs": [
    {
     "data": {
      "text/html": [
       "<button data-tippy-content=\"<b>Hello</b>, what are you doing?\" data-tippy-allowHTML=\"true\">Button</button>"
      ],
      "text/plain": [
       "<IPython.core.display.HTML object>"
      ]
     },
     "metadata": {},
     "output_type": "display_data"
    },
    {
     "data": {
      "application/javascript": [
       "\n",
       "require([\"@popperjs/core\", \"tippy\"], function (popper, tippy) {\n",
       "    tippy(\"[data-tippy-content]\", {\"interactive\": true, \"placement\": \"right\"});\n",
       "});"
      ],
      "text/plain": [
       "<IPython.core.display.Javascript object>"
      ]
     },
     "metadata": {},
     "output_type": "display_data"
    }
   ],
   "source": [
    "display(HTML('<button data-tippy-content=\"<b>Hello</b>, what are you doing?\" data-tippy-allowHTML=\"true\">Button</button>'))\n",
    "M.Tippy.render()"
   ]
  },
  {
   "cell_type": "markdown",
   "metadata": {},
   "source": [
    "Similar to the **DataTable** module, we can also configure the module for our need. For example, we may want the pop-over to not disappear so that we can interact with the content such as clicking the link.\n",
    "\n",
    "All configurations are available on [**Tipply**'s website](https://atomiks.github.io/tippyjs/v6/all-props/)."
   ]
  },
  {
   "cell_type": "code",
   "execution_count": 40,
   "metadata": {},
   "outputs": [],
   "source": [
    "M.Tippy.set_args(interactive=True, placement=\"right\")"
   ]
  },
  {
   "cell_type": "code",
   "execution_count": 44,
   "metadata": {},
   "outputs": [
    {
     "data": {
      "text/html": [
       "<div style=\"height: 25px\"><button data-tippy-content=\"<b>Hello</b>, please click to visit <a href='https://google.com' target='_blank'>google.com</a>\" data-tippy-allowHTML=\"true\">Button</button></div>"
      ],
      "text/plain": [
       "<IPython.core.display.HTML object>"
      ]
     },
     "metadata": {},
     "output_type": "display_data"
    },
    {
     "data": {
      "application/javascript": [
       "\n",
       "require([\"@popperjs/core\", \"tippy\"], function (popper, tippy) {\n",
       "    tippy(\"[data-tippy-content]\", {\"interactive\": true, \"placement\": \"right\"});\n",
       "});"
      ],
      "text/plain": [
       "<IPython.core.display.Javascript object>"
      ]
     },
     "metadata": {},
     "output_type": "display_data"
    }
   ],
   "source": [
    "# we need the set the height of the container, as interactive Tippy's content is behind it, not like non-interactive content\n",
    "popover = \"<b>Hello</b>, please click to visit <a href='https://google.com' target='_blank'>google.com</a>\"\n",
    "display(HTML(f'<div style=\"height: 25px\"><button data-tippy-content=\"{popover}\" data-tippy-allowHTML=\"true\">Button</button></div>'))\n",
    "M.Tippy.render()"
   ]
  },
  {
   "cell_type": "markdown",
   "metadata": {},
   "source": [
    "## Pre-built UI components"
   ]
  },
  {
   "cell_type": "markdown",
   "metadata": {},
   "source": [
    "This library provides some UI components allowing us to interactive annotate/explore data. These components can be accessed via the `A` namespace."
   ]
  },
  {
   "cell_type": "markdown",
   "metadata": {},
   "source": [
    "### Slider\n",
    "\n",
    "This component is for displaying an item in a list, and changing the item interactively. You need to provide a function that render the item given its index. The range of the slider is defined by two parameters: `min` (default 0) and `max` (inclusive)."
   ]
  },
  {
   "cell_type": "code",
   "execution_count": 5,
   "metadata": {},
   "outputs": [
    {
     "data": {
      "application/vnd.jupyter.widget-view+json": {
       "model_id": "d29411f073b14e54819a884bdc5c2de6",
       "version_major": 2,
       "version_minor": 0
      },
      "text/plain": [
       "HBox(children=(Button(description='Previous', icon='arrow-circle-left', style=ButtonStyle()), Button(descripti…"
      ]
     },
     "metadata": {},
     "output_type": "display_data"
    },
    {
     "data": {
      "application/vnd.jupyter.widget-view+json": {
       "model_id": "7e53a051e334481da22ede4f61908cee",
       "version_major": 2,
       "version_minor": 0
      },
      "text/plain": [
       "Output()"
      ]
     },
     "metadata": {},
     "output_type": "display_data"
    }
   ],
   "source": [
    "lst = [\"google.com\", \"amazon.com\", \"microsoft.com\"]\n",
    "\n",
    "def render(index):\n",
    "    item = lst[index]\n",
    "    display(HTML(f\"<a href='https://{item}' target='_blank'>{item}</a>\"))\n",
    "    \n",
    "A.slider(render, max=len(lst) - 1)"
   ]
  },
  {
   "cell_type": "markdown",
   "metadata": {},
   "source": [
    "### Annotator\n",
    "\n",
    "This component is for annotating a list of examples. Each example instance needs to have an `id` property (type `str`), and a `render` function to display the example. You can create a class that inherits the `A.annotators.Example` class to make sure that you implement the correct methods, and for python 3 type check to not complain, but it's completely optional.\n",
    "\n",
    "Below is a simple example of classifying positive and negative reviews."
   ]
  },
  {
   "cell_type": "code",
   "execution_count": 6,
   "metadata": {},
   "outputs": [],
   "source": [
    "class MyExample:\n",
    "    def __init__(self, id, review):\n",
    "        self.review = review\n",
    "        self.id = str(id)\n",
    "        \n",
    "    def render(self):\n",
    "        display(HTML(\"<p>\" + self.review + \"</p>\"))\n",
    "        \n",
    "reviews = [\"It broke after two days\", \"It works as expected\", \"Good price\"]\n",
    "examples = [MyExample(i, review) for i, review in enumerate(reviews)]"
   ]
  },
  {
   "cell_type": "markdown",
   "metadata": {},
   "source": [
    "This library provides basic annotators for the classification task: `A.annotators.ClassificationAnnotator` and `A.annotators.BatchClassificationAnnotator` (display multiple examples in one page). The annotated data is stored in a given file so you do not need to worry about losing your progress. The output file is in the CSV format, where the first column is the example id, and the second column is the label that you assigned.\n",
    "\n",
    "If you need to customize these annotators (for example, assign multiple classes to one example), you can implement the abstract class `A.annotators.Annotator` or `A.annotators.PersistentAnnotator`. For more details, you can read the documentation in these classes."
   ]
  },
  {
   "cell_type": "code",
   "execution_count": 7,
   "metadata": {},
   "outputs": [
    {
     "data": {
      "application/vnd.jupyter.widget-view+json": {
       "model_id": "a225cbe690b04c6eb50b3adf24a5aa37",
       "version_major": 2,
       "version_minor": 0
      },
      "text/plain": [
       "Output(layout=Layout(border='1px solid #d24829', margin='0 0 0 -2px', padding='2px'))"
      ]
     },
     "metadata": {},
     "output_type": "display_data"
    }
   ],
   "source": [
    "outfile = \"/tmp/labeled_data.csv\"\n",
    "annotator = A.annotators.ClassificationAnnotator(outfile, examples, [\"positive\", \"negative\"])\n",
    "annotator.render()"
   ]
  },
  {
   "cell_type": "code",
   "execution_count": 8,
   "metadata": {},
   "outputs": [
    {
     "data": {
      "application/vnd.jupyter.widget-view+json": {
       "model_id": "e9bfcb20914e42d3837e6bb745aa97d5",
       "version_major": 2,
       "version_minor": 0
      },
      "text/plain": [
       "Output(layout=Layout(border='1px solid #d24829', margin='0 0 0 -2px', padding='2px'))"
      ]
     },
     "metadata": {},
     "output_type": "display_data"
    }
   ],
   "source": [
    "outfile = \"/tmp/labeled_data.csv\"\n",
    "annotator = A.annotators.BatchClassificationAnnotator(outfile, examples, [\"positive\", \"negative\"], batch_size=3)\n",
    "annotator.render()"
   ]
  },
  {
   "cell_type": "markdown",
   "metadata": {},
   "source": [
    "You can get the annotated result directly from the file, or from the `annotator.labeled_examples` property"
   ]
  },
  {
   "cell_type": "code",
   "execution_count": 9,
   "metadata": {},
   "outputs": [
    {
     "data": {
      "text/plain": [
       "{'0': 'negative', '1': 'negative', '2': 'negative'}"
      ]
     },
     "execution_count": 9,
     "metadata": {},
     "output_type": "execute_result"
    }
   ],
   "source": [
    "annotator.labeled_examples"
   ]
  },
  {
   "cell_type": "code",
   "execution_count": 10,
   "metadata": {},
   "outputs": [
    {
     "name": "stdout",
     "output_type": "stream",
     "text": [
      "0\tnegative\n",
      "1\tnegative\n",
      "2\tnegative\n"
     ]
    }
   ],
   "source": [
    "!cat {outfile}"
   ]
  },
  {
   "cell_type": "markdown",
   "metadata": {},
   "source": [
    "## Additional widgets\n",
    "\n",
    "This library also provides some primitive widgets that you can use to build your own components. Those widgets can be imported via the `W` namespace.\n",
    "\n",
    "A widget may require some JS modules, so you need to registered them as in the following examples:"
   ]
  },
  {
   "cell_type": "code",
   "execution_count": 11,
   "metadata": {},
   "outputs": [
    {
     "data": {
      "application/javascript": [],
      "text/plain": [
       "<IPython.core.display.Javascript object>"
      ]
     },
     "metadata": {},
     "output_type": "display_data"
    }
   ],
   "source": [
    "M.register(W.HideableButton.required_modules())"
   ]
  },
  {
   "cell_type": "markdown",
   "metadata": {},
   "source": [
    "### HideableButton"
   ]
  },
  {
   "cell_type": "code",
   "execution_count": 12,
   "metadata": {},
   "outputs": [
    {
     "data": {
      "application/vnd.jupyter.widget-view+json": {
       "model_id": "7861f3f66d8c40358eb4f1ecb7ccb4be",
       "version_major": 2,
       "version_minor": 0
      },
      "text/plain": [
       "VBox(children=(Button(description='click to show', style=ButtonStyle()), Output(layout=Layout(display='none'))…"
      ]
     },
     "metadata": {},
     "output_type": "display_data"
    }
   ],
   "source": [
    "import ipywidgets as widgets\n",
    "\n",
    "def render():    \n",
    "    display(widgets.Button(description='another button'))\n",
    "    \n",
    "display(W.HideableButton('click to show', render, show_event='click').widget)"
   ]
  },
  {
   "cell_type": "markdown",
   "metadata": {},
   "source": [
    "### Selection"
   ]
  },
  {
   "cell_type": "code",
   "execution_count": 13,
   "metadata": {},
   "outputs": [
    {
     "data": {
      "application/javascript": [
       "require.config({ paths: {\"jquery\": \"/custom/labext/jquery/js/jquery-3.3.1.min\"} });\n",
       "\n",
       "require.config({ paths: {\"selectize\": \"/custom/labext/selectize/js/selectize\"} });\n",
       "require([\"selectize\", \"jquery\"], function (selectize, jquery) {\n",
       "    if (document.querySelector(\"head link#selectize-css-fds82j1\") === null) {\n",
       "        var el = document.createElement(\"link\");\n",
       "        el.rel = \"stylesheet\";\n",
       "        el.id = \"selectize\";\n",
       "        el.type = \"text/css\";\n",
       "        el.href = \"/custom/labext/selectize/css/selectize.default.css\";\n",
       "        document.head.appendChild(el);\n",
       "    }\n",
       "});\n",
       "\n",
       "// create a container so that widget wrappers can use to store some information\n",
       "if (window.LabExtContainer1292931 === undefined) {\n",
       "    window.LabExtContainer1292931 = {};\n",
       "}\n",
       "\n",
       "// define call until return true function\n",
       "if (window.__CallUntilReturnTrue_BV12__ === undefined) {\n",
       "    function __CallUntilReturnTrue_BV12__(fn, timeout) {\n",
       "        setTimeout(function () {\n",
       "            if (!fn()) {\n",
       "                __CallUntilReturnTrue_BV12__(fn, timeout);\n",
       "            }\n",
       "        }, timeout);\n",
       "    }\n",
       "    window.__CallUntilReturnTrue_BV12__ = __CallUntilReturnTrue_BV12__\n",
       "}"
      ],
      "text/plain": [
       "<IPython.core.display.Javascript object>"
      ]
     },
     "metadata": {},
     "output_type": "display_data"
    }
   ],
   "source": [
    "M.register(W.Selection.required_modules())"
   ]
  },
  {
   "cell_type": "code",
   "execution_count": 14,
   "metadata": {},
   "outputs": [
    {
     "data": {
      "application/vnd.jupyter.widget-view+json": {
       "model_id": "ae361cdf1f6c448293dd716e693ade60",
       "version_major": 2,
       "version_minor": 0
      },
      "text/plain": [
       "HTML(value='<select></select>', layout=Layout(width='250px'), _dom_classes=('selection_ae361cdf1f6c448293dd716…"
      ]
     },
     "metadata": {},
     "output_type": "display_data"
    },
    {
     "data": {
      "application/vnd.jupyter.widget-view+json": {
       "model_id": "c842a589b2cb44729bc262bd312a0aae",
       "version_major": 2,
       "version_minor": 0
      },
      "text/plain": [
       "SlowTunnelWidget(js_endpoint=(0, ''), py_endpoint=(0, ''))"
      ]
     },
     "metadata": {},
     "output_type": "display_data"
    },
    {
     "data": {
      "application/vnd.jupyter.widget-view+json": {
       "model_id": "a90930cdd779406eb1e078f78fc8ec4f",
       "version_major": 2,
       "version_minor": 0
      },
      "text/plain": [
       "SlowTunnelWidget(js_endpoint=(0, ''), py_endpoint=(0, ''))"
      ]
     },
     "metadata": {},
     "output_type": "display_data"
    },
    {
     "data": {
      "application/javascript": [
       "require([\"jquery\", \"selectize\"], function (jquery, _) {\n",
       "    __CallUntilReturnTrue_BV12__(function () {\n",
       "        // get the selection container\n",
       "        var $el = jquery(\".selection_ae361cdf1f6c448293dd716e693ade60\");\n",
       "        if (jquery('select', $el).length == 0) {\n",
       "            return false;\n",
       "        }\n",
       "\n",
       "        // make it looks beautiful\n",
       "        jquery('select', $el).selectize({\n",
       "            valueField: 'value',\n",
       "            searchField: [\"text\"],\n",
       "            options: [{\"text\":\"google\",\"value\":\"0\"},{\"text\":\"amazon\",\"value\":\"1\"},{\"text\":\"facebook\",\"value\":\"2\"},{\"text\":\"microsoft\",\"value\":\"3\"},{\"text\":\"tesla\",\"value\":\"4\"},{\"text\":\"uber\",\"value\":\"5\"}],\n",
       "            dropdownParent: 'body',\n",
       "            create: false,\n",
       "            maxItems: 2,\n",
       "            items: [\"1\",\"0\"],\n",
       "            onChange: function (value) {\n",
       "                window.IPyCallback.get(\"c842a589b2cb44729bc262bd312a0aae\").send_msg(JSON.stringify({\n",
       "                    type: \"set_value\",\n",
       "                    value: value\n",
       "                }));\n",
       "            },\n",
       "            render: {\n",
       "                item: function (item, escape) {\n",
       "                    return '<div>' + item['text'] + '</div>';\n",
       "                },\n",
       "                option: function (item, escape) {\n",
       "                    return '<div>' + item['text'] + '</div>';\n",
       "                }\n",
       "            },\n",
       "            load: function (query, callback) {\n",
       "                // send query\n",
       "                let version = window.IPyCallback.get(\"a90930cdd779406eb1e078f78fc8ec4f\").send_msg(query);\n",
       "\n",
       "                // register the callback to some where\n",
       "                window.IPyCallback.get(\"a90930cdd779406eb1e078f78fc8ec4f\").on_receive((return_version, result) => {\n",
       "                    if (return_version < version) {\n",
       "                        // ignore the response as it's too old\n",
       "                        return;\n",
       "                    }\n",
       "                    result = JSON.parse(result);\n",
       "                    callback(result);\n",
       "                });\n",
       "            }\n",
       "        });\n",
       "\n",
       "        var selectize = jquery('select', $el)[0].selectize;\n",
       "        window.IPyCallback.get(\"c842a589b2cb44729bc262bd312a0aae\").on_receive((version, payload) => {\n",
       "            let msg = JSON.parse(payload);\n",
       "            if (msg.type == 'set_value') {\n",
       "                if (msg.value == '') {\n",
       "                    selectize.clear(true);  \n",
       "                } else if (Array.isArray(msg.value)) {\n",
       "                    selectize.clear(true);\n",
       "                    for (let v of msg.value) {\n",
       "                        selectize.addItem(v, true);\n",
       "                    }\n",
       "                } else {\n",
       "                    selectize.addItem(msg.value, true);\n",
       "                }\n",
       "            } else if (msg.type == 'replace_options') {\n",
       "                selectize.clearOptions();\n",
       "                for (let record of msg.records) {\n",
       "                    selectize.addOption(record);\n",
       "                }\n",
       "                selectize.refreshOptions(false);\n",
       "            } else if (msg.type == 'add_options') {\n",
       "                for (let record of msg.records) {\n",
       "                    selectize.addOption(record);\n",
       "                }\n",
       "                selectize.refreshOptions(false);\n",
       "            }\n",
       "        });\n",
       "        window.IPyCallback.get(\"c842a589b2cb44729bc262bd312a0aae\").send_msg(JSON.stringify({\"type\": \"initialized\"}));\n",
       "        return true;\n",
       "    }, 100);\n",
       "});"
      ],
      "text/plain": [
       "<IPython.core.display.Javascript object>"
      ]
     },
     "metadata": {},
     "output_type": "display_data"
    }
   ],
   "source": [
    "def search_company(query, _cache={}):\n",
    "    if 'data' not in _cache:\n",
    "        _cache['data'] = [{\"text\": text, \"value\": str(i)} for i, text in enumerate(['google', 'amazon', 'facebook', 'microsoft', 'tesla', 'uber']) ]\n",
    "    # assuming that we did a search\n",
    "    return _cache['data']\n",
    "    \n",
    "w = W.Selection(search_fn=search_company, layout={'width': '250px'}, max_items=2, default_value=['1', '0'])\n",
    "display(w.widget)\n",
    "display(*w.get_auxiliary_components())"
   ]
  },
  {
   "cell_type": "markdown",
   "metadata": {},
   "source": [
    "To set/get the value of this widget on the python side, use function `get_value`, `set_value`. To clear the value of the widget, set its value to empty string. You can also listen to the `on_change` event by setting your own callback: `w.on_change(callback)`."
   ]
  },
  {
   "cell_type": "code",
   "execution_count": 15,
   "metadata": {},
   "outputs": [
    {
     "data": {
      "text/plain": [
       "['1', '0']"
      ]
     },
     "execution_count": 15,
     "metadata": {},
     "output_type": "execute_result"
    }
   ],
   "source": [
    "w.get_value()"
   ]
  },
  {
   "cell_type": "code",
   "execution_count": 16,
   "metadata": {},
   "outputs": [],
   "source": [
    "w.set_value([\"0\", \"2\"])"
   ]
  },
  {
   "cell_type": "code",
   "execution_count": null,
   "metadata": {},
   "outputs": [],
   "source": []
  }
 ],
 "metadata": {
  "kernelspec": {
   "display_name": "labext",
   "language": "python",
   "name": "labext"
  },
  "language_info": {
   "codemirror_mode": {
    "name": "ipython",
    "version": 3
   },
   "file_extension": ".py",
   "mimetype": "text/x-python",
   "name": "python",
   "nbconvert_exporter": "python",
   "pygments_lexer": "ipython3",
   "version": "3.8.2"
  }
 },
 "nbformat": 4,
 "nbformat_minor": 4
}
